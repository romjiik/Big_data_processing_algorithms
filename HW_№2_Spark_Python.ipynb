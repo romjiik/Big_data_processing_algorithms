{
  "cells": [
    {
      "cell_type": "markdown",
      "metadata": {
        "id": "view-in-github",
        "colab_type": "text"
      },
      "source": [
        "<a href=\"https://colab.research.google.com/github/romjiik/Big_data_processing_algorithms/blob/main/HW_%E2%84%962_Spark_Python.ipynb\" target=\"_parent\"><img src=\"https://colab.research.google.com/assets/colab-badge.svg\" alt=\"Open In Colab\"/></a>"
      ]
    },
    {
      "cell_type": "markdown",
      "metadata": {
        "id": "DSebyT7hBJbM"
      },
      "source": [
        "# install stuff"
      ]
    },
    {
      "cell_type": "code",
      "source": [
        "from google.colab import drive\n",
        "drive.mount('/content/drive')"
      ],
      "metadata": {
        "colab": {
          "base_uri": "https://localhost:8080/"
        },
        "id": "HluEq6AbBu-Q",
        "outputId": "39bd0dcb-68dd-48a9-b5aa-6d4776617960"
      },
      "execution_count": 1,
      "outputs": [
        {
          "output_type": "stream",
          "name": "stdout",
          "text": [
            "Drive already mounted at /content/drive; to attempt to forcibly remount, call drive.mount(\"/content/drive\", force_remount=True).\n"
          ]
        }
      ]
    },
    {
      "cell_type": "code",
      "execution_count": 2,
      "metadata": {
        "colab": {
          "base_uri": "https://localhost:8080/"
        },
        "id": "6OL02Cz0BJbP",
        "outputId": "55f6198d-0267-4ae9-ce50-2c56a0de1e55"
      },
      "outputs": [
        {
          "output_type": "stream",
          "name": "stdout",
          "text": [
            "Looking in indexes: https://pypi.org/simple, https://us-python.pkg.dev/colab-wheels/public/simple/\n",
            "Requirement already satisfied: pyspark in /usr/local/lib/python3.10/dist-packages (3.4.0)\n",
            "Requirement already satisfied: pandas in /usr/local/lib/python3.10/dist-packages (1.5.3)\n",
            "Requirement already satisfied: scikit-learn in /usr/local/lib/python3.10/dist-packages (1.2.2)\n",
            "Requirement already satisfied: py4j==0.10.9.7 in /usr/local/lib/python3.10/dist-packages (from pyspark) (0.10.9.7)\n",
            "Requirement already satisfied: python-dateutil>=2.8.1 in /usr/local/lib/python3.10/dist-packages (from pandas) (2.8.2)\n",
            "Requirement already satisfied: pytz>=2020.1 in /usr/local/lib/python3.10/dist-packages (from pandas) (2022.7.1)\n",
            "Requirement already satisfied: numpy>=1.21.0 in /usr/local/lib/python3.10/dist-packages (from pandas) (1.22.4)\n",
            "Requirement already satisfied: scipy>=1.3.2 in /usr/local/lib/python3.10/dist-packages (from scikit-learn) (1.10.1)\n",
            "Requirement already satisfied: joblib>=1.1.1 in /usr/local/lib/python3.10/dist-packages (from scikit-learn) (1.2.0)\n",
            "Requirement already satisfied: threadpoolctl>=2.0.0 in /usr/local/lib/python3.10/dist-packages (from scikit-learn) (3.1.0)\n",
            "Requirement already satisfied: six>=1.5 in /usr/local/lib/python3.10/dist-packages (from python-dateutil>=2.8.1->pandas) (1.16.0)\n"
          ]
        }
      ],
      "source": [
        "! pip3 install pyspark pandas scikit-learn"
      ]
    },
    {
      "cell_type": "markdown",
      "metadata": {
        "id": "tbl-4fuUBJbQ"
      },
      "source": [
        "# setup pyspark"
      ]
    },
    {
      "cell_type": "code",
      "execution_count": 3,
      "metadata": {
        "id": "TkLiTRIFBJbQ"
      },
      "outputs": [],
      "source": [
        "import pyspark.sql\n",
        "from pyspark.sql import functions as sf\n",
        "import pyspark"
      ]
    },
    {
      "cell_type": "code",
      "execution_count": 4,
      "metadata": {
        "id": "DHhWKpMeBJbQ"
      },
      "outputs": [],
      "source": [
        "sparkConf = pyspark.SparkConf() \\\n",
        "    .set(\"spark.executor.memory\", \"512m\")\\\n",
        "    .set(\"spark.driver.memory\", \"512m\")\n",
        "ss = pyspark.sql.SparkSession.builder.config(conf=sparkConf).master('local[1]').getOrCreate()"
      ]
    },
    {
      "cell_type": "markdown",
      "metadata": {
        "id": "2j8LiQR8BJbR"
      },
      "source": [
        "# load data"
      ]
    },
    {
      "cell_type": "code",
      "execution_count": 5,
      "metadata": {
        "id": "d7dE7WXbBJbR"
      },
      "outputs": [],
      "source": [
        "train_data = ss.read.orc('/content/drive/MyDrive/Colab Notebooks/big_data/hw_data/posts_train.orc')\n",
        "test_data = ss.read.orc('/content/drive/MyDrive/Colab Notebooks/big_data/hw_data/posts_test.orc')\n",
        "channel_data = ss.read.orc('/content/drive/MyDrive/Colab Notebooks/big_data/hw_data/channels_orc')"
      ]
    },
    {
      "cell_type": "markdown",
      "source": [
        "Посмотрим на данные"
      ],
      "metadata": {
        "id": "N1gq_Zf-KXop"
      }
    },
    {
      "cell_type": "code",
      "source": [
        "train_data.show(5)"
      ],
      "metadata": {
        "colab": {
          "base_uri": "https://localhost:8080/"
        },
        "id": "YFHIgBOHDcCX",
        "outputId": "fdc2a594-1770-4a90-b3e9-419b99c52775"
      },
      "execution_count": 6,
      "outputs": [
        {
          "output_type": "stream",
          "name": "stdout",
          "text": [
            "+----------+--------+-----+--------------------+-----+---------+------------+--------------------+------------+\n",
            "|channel_id|      id|tg_id|                text|views|has_image|is_forwarded|                date|forwarded_id|\n",
            "+----------+--------+-----+--------------------+-----+---------+------------+--------------------+------------+\n",
            "|       221|29741094| 7182|МК, а это вот про...|15368|        f|           f|2018-11-03 13:05:...|        null|\n",
            "|       221|46751120| 7388|Хочу пошутить, чт...|12448|        f|           f|2018-11-26 16:15:...|        null|\n",
            "|       221|32631368| 5512|Уточню: Котляр бы...|69984|        f|           f|2018-05-16 16:03:...|        null|\n",
            "|       221|46751758| 7173|Да не на два лаге...|10241|        f|           f|2018-11-02 13:45:...|        null|\n",
            "|       221|33073441| 3185|А что касается Уд...|46847|        f|           f|2017-08-10 13:44:...|        null|\n",
            "+----------+--------+-----+--------------------+-----+---------+------------+--------------------+------------+\n",
            "only showing top 5 rows\n",
            "\n"
          ]
        }
      ]
    },
    {
      "cell_type": "code",
      "source": [
        "channel_data.show(5)"
      ],
      "metadata": {
        "colab": {
          "base_uri": "https://localhost:8080/"
        },
        "id": "2Z0iFUZ9HPyV",
        "outputId": "cbb74e99-2164-48c6-e836-adf7d1073a4c"
      },
      "execution_count": 7,
      "outputs": [
        {
          "output_type": "stream",
          "name": "stdout",
          "text": [
            "+--------------------+----------+--------------------+----------------+----------+----------+--------------------+--------------------+----------+----------+\n",
            "|         description|is_private|         last_parsed|            name|post_count|     tg_id|               title|             updated|user_count|channel_id|\n",
            "+--------------------+----------+--------------------+----------------+----------+----------+--------------------+--------------------+----------+----------+\n",
            "|                    |     false|2019-01-26 16:53:...|   MoeinZchannel|     708.0|1002972402|             Moein Z|2019-01-26 16:53:...|   62411.0|      7910|\n",
            "|Вокруг столько ме...|     false|2019-02-12 00:39:...|  merzotachannel|    1027.0|1336284461|            Мерзость|2019-02-12 00:39:...|   12982.0|     14121|\n",
            "|🗣እኛስ የተሰቀለውን ክርስ...|     false|2019-02-10 06:57:...|christian_mezmur|    1168.0|1136987361|Christian Mezmur ...|2019-02-10 06:57:...|   21704.0|     17375|\n",
            "|     Chiroyli_qomatt|     false|2018-12-08 00:54:...|chiroyli_ayollar|     775.0|1363004116|    Ideal qomat siri|2018-12-08 00:54:...|    6516.0|     49797|\n",
            "|                    |     false|2019-02-10 14:31:...|   abhijitrathod|    1468.0|1090317766|Parivartan by Abh...|2019-02-10 14:31:...|   18995.0|     33685|\n",
            "+--------------------+----------+--------------------+----------------+----------+----------+--------------------+--------------------+----------+----------+\n",
            "only showing top 5 rows\n",
            "\n"
          ]
        }
      ]
    },
    {
      "cell_type": "markdown",
      "metadata": {
        "id": "auKJu2fwBJbR"
      },
      "source": [
        "# make features"
      ]
    },
    {
      "cell_type": "markdown",
      "source": [
        "Проверим на наличие дубликатов"
      ],
      "metadata": {
        "id": "78V01c0cXmNv"
      }
    },
    {
      "cell_type": "code",
      "source": [
        "print((train_data.count(), len(train_data.columns)))"
      ],
      "metadata": {
        "colab": {
          "base_uri": "https://localhost:8080/"
        },
        "id": "dEBNVYW3LcyG",
        "outputId": "f3943569-f550-4aa7-ef9a-fbfc141f5af1"
      },
      "execution_count": 8,
      "outputs": [
        {
          "output_type": "stream",
          "name": "stdout",
          "text": [
            "(5460759, 9)\n"
          ]
        }
      ]
    },
    {
      "cell_type": "code",
      "source": [
        "train_data = train_data.dropDuplicates()"
      ],
      "metadata": {
        "id": "AvTshLD3TsZU"
      },
      "execution_count": 9,
      "outputs": []
    },
    {
      "cell_type": "code",
      "source": [
        "print((train_data.count(), len(train_data.columns)))"
      ],
      "metadata": {
        "colab": {
          "base_uri": "https://localhost:8080/"
        },
        "id": "fbNxSBA2Tx9w",
        "outputId": "4b1a10f7-26b4-4e43-9696-ee33369c1691"
      },
      "execution_count": 10,
      "outputs": [
        {
          "output_type": "stream",
          "name": "stdout",
          "text": [
            "(5460759, 9)\n"
          ]
        }
      ]
    },
    {
      "cell_type": "code",
      "source": [
        "print(len(channel_data.collect()))"
      ],
      "metadata": {
        "colab": {
          "base_uri": "https://localhost:8080/"
        },
        "id": "9xtwQZzXlbC2",
        "outputId": "0097b871-eab5-4621-fdf2-21801679d499"
      },
      "execution_count": 11,
      "outputs": [
        {
          "output_type": "stream",
          "name": "stdout",
          "text": [
            "2000\n"
          ]
        }
      ]
    },
    {
      "cell_type": "code",
      "source": [
        "print(len(channel_data.dropDuplicates(['name']).collect()))"
      ],
      "metadata": {
        "colab": {
          "base_uri": "https://localhost:8080/"
        },
        "id": "fVL1Ge1MloUX",
        "outputId": "d21b8754-656e-4c85-b32f-1b57f19218bf"
      },
      "execution_count": 12,
      "outputs": [
        {
          "output_type": "stream",
          "name": "stdout",
          "text": [
            "2000\n"
          ]
        }
      ]
    },
    {
      "cell_type": "markdown",
      "source": [
        "Дублей нет"
      ],
      "metadata": {
        "id": "ObobOsBuXpSn"
      }
    },
    {
      "cell_type": "markdown",
      "source": [
        "Одним из хороших признаков к количеству просмотров может быть количество подписчиков канала из мета данных о канале, так как чем больше людей в канале, тем больше людей видят пост"
      ],
      "metadata": {
        "id": "eqA2dVyJKZrG"
      }
    },
    {
      "cell_type": "code",
      "source": [
        "# задаю алиасы, чтобы удобно джойнить\n",
        "train_data = train_data.alias('train_data')\n",
        "test_data = test_data.alias('test_data')\n",
        "channel_data = channel_data.alias('channel_data')\n",
        "\n",
        "# джойню таблицу с мета-данными к изначальным таблицам по channel_id\n",
        "train_data = train_data.join(channel_data, how='inner', on='channel_id').select('train_data.*', 'channel_data.user_count')\n",
        "test_data = test_data.join(channel_data, how='inner', on='channel_id').select('test_data.*', 'channel_data.user_count')"
      ],
      "metadata": {
        "id": "HIVFZRy9KV5c"
      },
      "execution_count": 13,
      "outputs": []
    },
    {
      "cell_type": "markdown",
      "source": [
        "Неплохой фичей может быть время от нынешнего поста до предыдущего. Буду считать с помощью оконной функции"
      ],
      "metadata": {
        "id": "oBrrldcxdoQs"
      }
    },
    {
      "cell_type": "code",
      "source": [
        "# привожу дату к нужному формату\n",
        "train_data = train_data.withColumn('date', train_data['date'].cast('timestamp'))\n",
        "test_data = test_data.withColumn('date', test_data['date'].cast('timestamp'))"
      ],
      "metadata": {
        "id": "iDRBDzUupjCJ"
      },
      "execution_count": 14,
      "outputs": []
    },
    {
      "cell_type": "code",
      "source": [
        "from pyspark.sql import Window\n",
        "# делаю окно, по которому буду идти - в рамках канала и по увеличению даты\n",
        "w = Window.partitionBy('channel_id').orderBy('date')\n",
        "# считаю разницу между датой данной строки и предыдущей по времени. Для предыдущей использую lag по окну. Время привожу к \n",
        "# формату unix и получаю разницу по времени в секундах\n",
        "train_data = train_data.withColumn('previos_post_diff', sf.unix_timestamp(train_data.date) -  \\\n",
        "                                   sf.unix_timestamp(sf.lag('date', 1).over(w)))\n",
        "# для самого первого по времени поста в рамках канала значения не будет, поэтому заполню нулем\n",
        "train_data = train_data.na.fill(0)\n",
        "# аналогично для теста\n",
        "test_data = test_data.withColumn('previos_post_diff', sf.unix_timestamp(test_data.date) -  \\\n",
        "                                   sf.unix_timestamp(sf.lag('date', 1).over(w)))\n",
        "test_data = test_data.na.fill(0)"
      ],
      "metadata": {
        "id": "pn2kVgTAd6y5"
      },
      "execution_count": 15,
      "outputs": []
    },
    {
      "cell_type": "markdown",
      "source": [
        "Полезной фичей, которую можно выделить из текста будет количество хэштегов, так как они могут влиять на охват"
      ],
      "metadata": {
        "id": "5PSnq4HKnl5H"
      }
    },
    {
      "cell_type": "code",
      "source": [
        "# с помощью регулярных выражений нахожу слова с хэштегами, а дальше проверяю наличие символа # и перевожу bool в int\n",
        "train_data = train_data.withColumn(\"hashtags_count\", \n",
        "                                   sf.regexp_extract(train_data.text, r\"#\\w+\", 0).rlike(\"#\").cast(\"integer\"))\n",
        "# там, где хэштегов не нашлось - заполняю нулями\n",
        "train_data = train_data.na.fill(0)\n",
        "# аналогично для теста\n",
        "test_data = test_data.withColumn(\"hashtags_count\", \n",
        "                                   sf.regexp_extract(test_data.text, r\"#\\w+\", 0).rlike(\"#\").cast(\"integer\"))\n",
        "\n",
        "test_data = test_data.na.fill(0)"
      ],
      "metadata": {
        "id": "qgbXL-jymPF-"
      },
      "execution_count": 16,
      "outputs": []
    },
    {
      "cell_type": "code",
      "execution_count": 17,
      "metadata": {
        "id": "zJ5X9aLNBJbR"
      },
      "outputs": [],
      "source": [
        "def make_features(df):\n",
        "    cols = ['channel_id', 'id', 'tg_id', 'has_image', 'is_forwarded', 'user_count', 'previos_post_diff', 'hashtags_count']\n",
        "    if 'views' in df.columns:\n",
        "        cols.append('views')\n",
        "    return df.select(*cols)"
      ]
    },
    {
      "cell_type": "code",
      "execution_count": 18,
      "metadata": {
        "id": "ipWe17pABJbS"
      },
      "outputs": [],
      "source": [
        "train_features = make_features(train_data).cache()\n",
        "test_features = make_features(test_data).cache()"
      ]
    },
    {
      "cell_type": "code",
      "execution_count": 19,
      "metadata": {
        "id": "LyKJU9uBBJbS"
      },
      "outputs": [],
      "source": [
        "train_features.write.csv('train_csv', mode='overwrite', header=True)\n",
        "test_features.write.csv('test_csv', mode='overwrite', header=True)"
      ]
    },
    {
      "cell_type": "markdown",
      "metadata": {
        "id": "KWRStvEKBJbS"
      },
      "source": [
        "# load features to pandas\n",
        "you also can use .toPandas()"
      ]
    },
    {
      "cell_type": "code",
      "execution_count": 20,
      "metadata": {
        "id": "y689R_7jBJbS"
      },
      "outputs": [],
      "source": [
        "import subprocess\n",
        "import glob\n",
        "import os\n",
        "import shutil\n",
        "import pandas as pd\n",
        "\n",
        "def load_and_merge_csv(path, **kwargs):\n",
        "    dfs = []\n",
        "    for g in glob.glob(os.path.join(path, '*.csv')):\n",
        "        dfs.append(pd.read_csv(g, **kwargs))\n",
        "    res = pd.concat(dfs)\n",
        "    res = res.set_index('id')\n",
        "    return res"
      ]
    },
    {
      "cell_type": "code",
      "execution_count": 21,
      "metadata": {
        "id": "QetwC_IKBJbS"
      },
      "outputs": [],
      "source": [
        "trainXY = load_and_merge_csv('train_csv')\n",
        "testX = load_and_merge_csv('test_csv')"
      ]
    },
    {
      "cell_type": "code",
      "execution_count": 22,
      "metadata": {
        "id": "PFcVVg-pBJbS"
      },
      "outputs": [],
      "source": [
        "import numpy as np\n",
        "\n",
        "Ycol = 'views'\n",
        "to_drop = ['channel_id']\n",
        "trainX, trainY = trainXY.drop(Ycol, axis=1).drop(to_drop, axis=1), trainXY[Ycol]\n",
        "trainY = np.log(trainY + 100)\n",
        "\n",
        "testX = testX.drop(to_drop, axis=1)"
      ]
    },
    {
      "cell_type": "markdown",
      "metadata": {
        "id": "gkPjvQwXBJbT"
      },
      "source": [
        "# train your model and predict test"
      ]
    },
    {
      "cell_type": "code",
      "source": [
        "!pip3 install catboost"
      ],
      "metadata": {
        "colab": {
          "base_uri": "https://localhost:8080/"
        },
        "id": "WTP7sgJn0iG2",
        "outputId": "b67e64b9-58d4-4684-bc89-9710e3697c5f"
      },
      "execution_count": 23,
      "outputs": [
        {
          "output_type": "stream",
          "name": "stdout",
          "text": [
            "Looking in indexes: https://pypi.org/simple, https://us-python.pkg.dev/colab-wheels/public/simple/\n",
            "Requirement already satisfied: catboost in /usr/local/lib/python3.10/dist-packages (1.2)\n",
            "Requirement already satisfied: graphviz in /usr/local/lib/python3.10/dist-packages (from catboost) (0.20.1)\n",
            "Requirement already satisfied: matplotlib in /usr/local/lib/python3.10/dist-packages (from catboost) (3.7.1)\n",
            "Requirement already satisfied: numpy>=1.16.0 in /usr/local/lib/python3.10/dist-packages (from catboost) (1.22.4)\n",
            "Requirement already satisfied: pandas>=0.24 in /usr/local/lib/python3.10/dist-packages (from catboost) (1.5.3)\n",
            "Requirement already satisfied: scipy in /usr/local/lib/python3.10/dist-packages (from catboost) (1.10.1)\n",
            "Requirement already satisfied: plotly in /usr/local/lib/python3.10/dist-packages (from catboost) (5.13.1)\n",
            "Requirement already satisfied: six in /usr/local/lib/python3.10/dist-packages (from catboost) (1.16.0)\n",
            "Requirement already satisfied: python-dateutil>=2.8.1 in /usr/local/lib/python3.10/dist-packages (from pandas>=0.24->catboost) (2.8.2)\n",
            "Requirement already satisfied: pytz>=2020.1 in /usr/local/lib/python3.10/dist-packages (from pandas>=0.24->catboost) (2022.7.1)\n",
            "Requirement already satisfied: contourpy>=1.0.1 in /usr/local/lib/python3.10/dist-packages (from matplotlib->catboost) (1.0.7)\n",
            "Requirement already satisfied: cycler>=0.10 in /usr/local/lib/python3.10/dist-packages (from matplotlib->catboost) (0.11.0)\n",
            "Requirement already satisfied: fonttools>=4.22.0 in /usr/local/lib/python3.10/dist-packages (from matplotlib->catboost) (4.39.3)\n",
            "Requirement already satisfied: kiwisolver>=1.0.1 in /usr/local/lib/python3.10/dist-packages (from matplotlib->catboost) (1.4.4)\n",
            "Requirement already satisfied: packaging>=20.0 in /usr/local/lib/python3.10/dist-packages (from matplotlib->catboost) (23.1)\n",
            "Requirement already satisfied: pillow>=6.2.0 in /usr/local/lib/python3.10/dist-packages (from matplotlib->catboost) (8.4.0)\n",
            "Requirement already satisfied: pyparsing>=2.3.1 in /usr/local/lib/python3.10/dist-packages (from matplotlib->catboost) (3.0.9)\n",
            "Requirement already satisfied: tenacity>=6.2.0 in /usr/local/lib/python3.10/dist-packages (from plotly->catboost) (8.2.2)\n"
          ]
        }
      ]
    },
    {
      "cell_type": "code",
      "source": [
        "# в качестве модели буду использовать катбуст. Пул нужен для того, чтобы закинуть в него данные и передать потом в модель\n",
        "from catboost import CatBoostRegressor, Pool\n",
        "\n",
        "data_train = Pool(\n",
        "            data=trainX,\n",
        "            label=trainY,\n",
        "            cat_features=['has_image', 'is_forwarded']\n",
        "            )"
      ],
      "metadata": {
        "id": "xItxOZ8R1LMg"
      },
      "execution_count": 24,
      "outputs": []
    },
    {
      "cell_type": "code",
      "source": [
        "# инициализирую модель и обучаю ее\n",
        "model = CatBoostRegressor(iterations=200)\n",
        "model.fit(data_train)"
      ],
      "metadata": {
        "colab": {
          "base_uri": "https://localhost:8080/"
        },
        "id": "RF9BQHjm3EX4",
        "outputId": "75f8a97d-6408-4296-ae4a-4e6bdd326062"
      },
      "execution_count": 26,
      "outputs": [
        {
          "output_type": "stream",
          "name": "stdout",
          "text": [
            "Learning rate set to 0.5\n",
            "0:\tlearn: 1.3318141\ttotal: 779ms\tremaining: 2m 35s\n",
            "1:\tlearn: 1.2803169\ttotal: 1.38s\tremaining: 2m 16s\n",
            "2:\tlearn: 1.2608424\ttotal: 1.99s\tremaining: 2m 10s\n",
            "3:\tlearn: 1.2494896\ttotal: 2.56s\tremaining: 2m 5s\n",
            "4:\tlearn: 1.2449299\ttotal: 3.12s\tremaining: 2m 1s\n",
            "5:\tlearn: 1.2424979\ttotal: 3.68s\tremaining: 1m 58s\n",
            "6:\tlearn: 1.2390658\ttotal: 4.25s\tremaining: 1m 57s\n",
            "7:\tlearn: 1.2356352\ttotal: 4.84s\tremaining: 1m 56s\n",
            "8:\tlearn: 1.2320357\ttotal: 5.41s\tremaining: 1m 54s\n",
            "9:\tlearn: 1.2295300\ttotal: 6.01s\tremaining: 1m 54s\n",
            "10:\tlearn: 1.2273941\ttotal: 6.58s\tremaining: 1m 53s\n",
            "11:\tlearn: 1.2256632\ttotal: 7.26s\tremaining: 1m 53s\n",
            "12:\tlearn: 1.2219306\ttotal: 8.3s\tremaining: 1m 59s\n",
            "13:\tlearn: 1.2198230\ttotal: 9.32s\tremaining: 2m 3s\n",
            "14:\tlearn: 1.2166462\ttotal: 10.4s\tremaining: 2m 7s\n",
            "15:\tlearn: 1.2135471\ttotal: 11.4s\tremaining: 2m 10s\n",
            "16:\tlearn: 1.2115980\ttotal: 11.9s\tremaining: 2m 8s\n",
            "17:\tlearn: 1.2101229\ttotal: 12.5s\tremaining: 2m 6s\n",
            "18:\tlearn: 1.2077624\ttotal: 13.1s\tremaining: 2m 4s\n",
            "19:\tlearn: 1.2043080\ttotal: 13.6s\tremaining: 2m 2s\n",
            "20:\tlearn: 1.2015688\ttotal: 14.2s\tremaining: 2m\n",
            "21:\tlearn: 1.1987803\ttotal: 14.7s\tremaining: 1m 59s\n",
            "22:\tlearn: 1.1973239\ttotal: 15.3s\tremaining: 1m 57s\n",
            "23:\tlearn: 1.1954794\ttotal: 15.9s\tremaining: 1m 56s\n",
            "24:\tlearn: 1.1930854\ttotal: 16.4s\tremaining: 1m 55s\n",
            "25:\tlearn: 1.1911090\ttotal: 17s\tremaining: 1m 53s\n",
            "26:\tlearn: 1.1901163\ttotal: 17.6s\tremaining: 1m 52s\n",
            "27:\tlearn: 1.1886381\ttotal: 18.1s\tremaining: 1m 51s\n",
            "28:\tlearn: 1.1866448\ttotal: 18.7s\tremaining: 1m 50s\n",
            "29:\tlearn: 1.1843143\ttotal: 19.3s\tremaining: 1m 49s\n",
            "30:\tlearn: 1.1828548\ttotal: 19.9s\tremaining: 1m 48s\n",
            "31:\tlearn: 1.1811524\ttotal: 20.4s\tremaining: 1m 47s\n",
            "32:\tlearn: 1.1795476\ttotal: 21s\tremaining: 1m 46s\n",
            "33:\tlearn: 1.1790600\ttotal: 21.8s\tremaining: 1m 46s\n",
            "34:\tlearn: 1.1770161\ttotal: 22.9s\tremaining: 1m 47s\n",
            "35:\tlearn: 1.1753417\ttotal: 23.9s\tremaining: 1m 48s\n",
            "36:\tlearn: 1.1739290\ttotal: 24.9s\tremaining: 1m 49s\n",
            "37:\tlearn: 1.1729846\ttotal: 25.8s\tremaining: 1m 49s\n",
            "38:\tlearn: 1.1707915\ttotal: 26.3s\tremaining: 1m 48s\n",
            "39:\tlearn: 1.1699332\ttotal: 26.9s\tremaining: 1m 47s\n",
            "40:\tlearn: 1.1691643\ttotal: 27.4s\tremaining: 1m 46s\n",
            "41:\tlearn: 1.1677163\ttotal: 28s\tremaining: 1m 45s\n",
            "42:\tlearn: 1.1660903\ttotal: 28.6s\tremaining: 1m 44s\n",
            "43:\tlearn: 1.1647459\ttotal: 29.2s\tremaining: 1m 43s\n",
            "44:\tlearn: 1.1638472\ttotal: 29.7s\tremaining: 1m 42s\n",
            "45:\tlearn: 1.1624922\ttotal: 30.3s\tremaining: 1m 41s\n",
            "46:\tlearn: 1.1610496\ttotal: 30.9s\tremaining: 1m 40s\n",
            "47:\tlearn: 1.1598244\ttotal: 31.4s\tremaining: 1m 39s\n",
            "48:\tlearn: 1.1592545\ttotal: 32s\tremaining: 1m 38s\n",
            "49:\tlearn: 1.1580769\ttotal: 32.6s\tremaining: 1m 37s\n",
            "50:\tlearn: 1.1569836\ttotal: 33.1s\tremaining: 1m 36s\n",
            "51:\tlearn: 1.1558861\ttotal: 33.7s\tremaining: 1m 35s\n",
            "52:\tlearn: 1.1547487\ttotal: 34.3s\tremaining: 1m 35s\n",
            "53:\tlearn: 1.1539446\ttotal: 34.8s\tremaining: 1m 34s\n",
            "54:\tlearn: 1.1534903\ttotal: 35.4s\tremaining: 1m 33s\n",
            "55:\tlearn: 1.1521217\ttotal: 36.1s\tremaining: 1m 32s\n",
            "56:\tlearn: 1.1511101\ttotal: 37.2s\tremaining: 1m 33s\n",
            "57:\tlearn: 1.1500015\ttotal: 38.2s\tremaining: 1m 33s\n",
            "58:\tlearn: 1.1487768\ttotal: 39.2s\tremaining: 1m 33s\n",
            "59:\tlearn: 1.1479160\ttotal: 40.1s\tremaining: 1m 33s\n",
            "60:\tlearn: 1.1467511\ttotal: 40.7s\tremaining: 1m 32s\n",
            "61:\tlearn: 1.1459940\ttotal: 41.2s\tremaining: 1m 31s\n",
            "62:\tlearn: 1.1455318\ttotal: 41.8s\tremaining: 1m 30s\n",
            "63:\tlearn: 1.1448263\ttotal: 42.3s\tremaining: 1m 29s\n",
            "64:\tlearn: 1.1437410\ttotal: 42.9s\tremaining: 1m 29s\n",
            "65:\tlearn: 1.1433282\ttotal: 43.5s\tremaining: 1m 28s\n",
            "66:\tlearn: 1.1420020\ttotal: 44.1s\tremaining: 1m 27s\n",
            "67:\tlearn: 1.1416293\ttotal: 44.6s\tremaining: 1m 26s\n",
            "68:\tlearn: 1.1401594\ttotal: 45.2s\tremaining: 1m 25s\n",
            "69:\tlearn: 1.1390410\ttotal: 45.8s\tremaining: 1m 25s\n",
            "70:\tlearn: 1.1376764\ttotal: 46.4s\tremaining: 1m 24s\n",
            "71:\tlearn: 1.1369741\ttotal: 47s\tremaining: 1m 23s\n",
            "72:\tlearn: 1.1361783\ttotal: 47.5s\tremaining: 1m 22s\n",
            "73:\tlearn: 1.1344279\ttotal: 48.2s\tremaining: 1m 21s\n",
            "74:\tlearn: 1.1336798\ttotal: 48.7s\tremaining: 1m 21s\n",
            "75:\tlearn: 1.1331237\ttotal: 49.3s\tremaining: 1m 20s\n",
            "76:\tlearn: 1.1327021\ttotal: 49.8s\tremaining: 1m 19s\n",
            "77:\tlearn: 1.1322510\ttotal: 50.7s\tremaining: 1m 19s\n",
            "78:\tlearn: 1.1318026\ttotal: 51.7s\tremaining: 1m 19s\n",
            "79:\tlearn: 1.1314019\ttotal: 52.7s\tremaining: 1m 19s\n",
            "80:\tlearn: 1.1305295\ttotal: 53.7s\tremaining: 1m 18s\n",
            "81:\tlearn: 1.1300908\ttotal: 54.6s\tremaining: 1m 18s\n",
            "82:\tlearn: 1.1295992\ttotal: 55.1s\tremaining: 1m 17s\n",
            "83:\tlearn: 1.1289798\ttotal: 55.8s\tremaining: 1m 16s\n",
            "84:\tlearn: 1.1283355\ttotal: 56.3s\tremaining: 1m 16s\n",
            "85:\tlearn: 1.1279544\ttotal: 56.9s\tremaining: 1m 15s\n",
            "86:\tlearn: 1.1267896\ttotal: 57.5s\tremaining: 1m 14s\n",
            "87:\tlearn: 1.1260975\ttotal: 58.1s\tremaining: 1m 13s\n",
            "88:\tlearn: 1.1255510\ttotal: 58.6s\tremaining: 1m 13s\n",
            "89:\tlearn: 1.1248488\ttotal: 59.2s\tremaining: 1m 12s\n",
            "90:\tlearn: 1.1243147\ttotal: 59.9s\tremaining: 1m 11s\n",
            "91:\tlearn: 1.1240458\ttotal: 1m\tremaining: 1m 11s\n",
            "92:\tlearn: 1.1234493\ttotal: 1m 1s\tremaining: 1m 10s\n",
            "93:\tlearn: 1.1229415\ttotal: 1m 1s\tremaining: 1m 9s\n",
            "94:\tlearn: 1.1222887\ttotal: 1m 2s\tremaining: 1m 9s\n",
            "95:\tlearn: 1.1216759\ttotal: 1m 3s\tremaining: 1m 8s\n",
            "96:\tlearn: 1.1212396\ttotal: 1m 3s\tremaining: 1m 7s\n",
            "97:\tlearn: 1.1206124\ttotal: 1m 4s\tremaining: 1m 6s\n",
            "98:\tlearn: 1.1199683\ttotal: 1m 5s\tremaining: 1m 6s\n",
            "99:\tlearn: 1.1190113\ttotal: 1m 6s\tremaining: 1m 6s\n",
            "100:\tlearn: 1.1178716\ttotal: 1m 7s\tremaining: 1m 6s\n",
            "101:\tlearn: 1.1175561\ttotal: 1m 8s\tremaining: 1m 5s\n",
            "102:\tlearn: 1.1169728\ttotal: 1m 9s\tremaining: 1m 5s\n",
            "103:\tlearn: 1.1157900\ttotal: 1m 9s\tremaining: 1m 4s\n",
            "104:\tlearn: 1.1154616\ttotal: 1m 10s\tremaining: 1m 3s\n",
            "105:\tlearn: 1.1149791\ttotal: 1m 10s\tremaining: 1m 2s\n",
            "106:\tlearn: 1.1140030\ttotal: 1m 11s\tremaining: 1m 2s\n",
            "107:\tlearn: 1.1136724\ttotal: 1m 12s\tremaining: 1m 1s\n",
            "108:\tlearn: 1.1133573\ttotal: 1m 12s\tremaining: 1m\n",
            "109:\tlearn: 1.1126490\ttotal: 1m 13s\tremaining: 59.9s\n",
            "110:\tlearn: 1.1122741\ttotal: 1m 13s\tremaining: 59.2s\n",
            "111:\tlearn: 1.1115209\ttotal: 1m 14s\tremaining: 58.5s\n",
            "112:\tlearn: 1.1108149\ttotal: 1m 15s\tremaining: 57.8s\n",
            "113:\tlearn: 1.1099775\ttotal: 1m 15s\tremaining: 57.1s\n",
            "114:\tlearn: 1.1093288\ttotal: 1m 16s\tremaining: 56.4s\n",
            "115:\tlearn: 1.1087869\ttotal: 1m 16s\tremaining: 55.6s\n",
            "116:\tlearn: 1.1083159\ttotal: 1m 17s\tremaining: 54.9s\n",
            "117:\tlearn: 1.1080904\ttotal: 1m 17s\tremaining: 54.2s\n",
            "118:\tlearn: 1.1074048\ttotal: 1m 18s\tremaining: 53.4s\n",
            "119:\tlearn: 1.1070523\ttotal: 1m 19s\tremaining: 52.8s\n",
            "120:\tlearn: 1.1065386\ttotal: 1m 20s\tremaining: 52.4s\n",
            "121:\tlearn: 1.1061299\ttotal: 1m 21s\tremaining: 52s\n",
            "122:\tlearn: 1.1057826\ttotal: 1m 22s\tremaining: 51.5s\n",
            "123:\tlearn: 1.1054452\ttotal: 1m 23s\tremaining: 51s\n",
            "124:\tlearn: 1.1048825\ttotal: 1m 23s\tremaining: 50.3s\n",
            "125:\tlearn: 1.1043629\ttotal: 1m 24s\tremaining: 49.6s\n",
            "126:\tlearn: 1.1038600\ttotal: 1m 24s\tremaining: 48.8s\n",
            "127:\tlearn: 1.1035625\ttotal: 1m 25s\tremaining: 48.1s\n",
            "128:\tlearn: 1.1031499\ttotal: 1m 26s\tremaining: 47.4s\n",
            "129:\tlearn: 1.1025620\ttotal: 1m 26s\tremaining: 46.7s\n",
            "130:\tlearn: 1.1020636\ttotal: 1m 27s\tremaining: 46s\n",
            "131:\tlearn: 1.1018595\ttotal: 1m 27s\tremaining: 45.2s\n",
            "132:\tlearn: 1.1012214\ttotal: 1m 28s\tremaining: 44.5s\n",
            "133:\tlearn: 1.1008587\ttotal: 1m 28s\tremaining: 43.8s\n",
            "134:\tlearn: 1.1005747\ttotal: 1m 29s\tremaining: 43.1s\n",
            "135:\tlearn: 1.1003551\ttotal: 1m 30s\tremaining: 42.4s\n",
            "136:\tlearn: 1.1001677\ttotal: 1m 30s\tremaining: 41.6s\n",
            "137:\tlearn: 1.0998768\ttotal: 1m 31s\tremaining: 40.9s\n",
            "138:\tlearn: 1.0993853\ttotal: 1m 31s\tremaining: 40.2s\n",
            "139:\tlearn: 1.0989444\ttotal: 1m 32s\tremaining: 39.6s\n",
            "140:\tlearn: 1.0983029\ttotal: 1m 32s\tremaining: 38.9s\n",
            "141:\tlearn: 1.0974242\ttotal: 1m 33s\tremaining: 38.3s\n",
            "142:\tlearn: 1.0968658\ttotal: 1m 34s\tremaining: 37.8s\n",
            "143:\tlearn: 1.0961315\ttotal: 1m 35s\tremaining: 37.3s\n",
            "144:\tlearn: 1.0953937\ttotal: 1m 36s\tremaining: 36.7s\n",
            "145:\tlearn: 1.0949516\ttotal: 1m 37s\tremaining: 36.2s\n",
            "146:\tlearn: 1.0939814\ttotal: 1m 38s\tremaining: 35.5s\n",
            "147:\tlearn: 1.0933148\ttotal: 1m 38s\tremaining: 34.8s\n",
            "148:\tlearn: 1.0929992\ttotal: 1m 39s\tremaining: 34.1s\n",
            "149:\tlearn: 1.0928320\ttotal: 1m 40s\tremaining: 33.4s\n",
            "150:\tlearn: 1.0926095\ttotal: 1m 40s\tremaining: 32.7s\n",
            "151:\tlearn: 1.0922511\ttotal: 1m 41s\tremaining: 32s\n",
            "152:\tlearn: 1.0918749\ttotal: 1m 41s\tremaining: 31.3s\n",
            "153:\tlearn: 1.0915725\ttotal: 1m 42s\tremaining: 30.6s\n",
            "154:\tlearn: 1.0908666\ttotal: 1m 43s\tremaining: 29.9s\n",
            "155:\tlearn: 1.0901358\ttotal: 1m 43s\tremaining: 29.2s\n",
            "156:\tlearn: 1.0898369\ttotal: 1m 44s\tremaining: 28.5s\n",
            "157:\tlearn: 1.0895901\ttotal: 1m 44s\tremaining: 27.9s\n",
            "158:\tlearn: 1.0894134\ttotal: 1m 45s\tremaining: 27.2s\n",
            "159:\tlearn: 1.0890628\ttotal: 1m 45s\tremaining: 26.5s\n",
            "160:\tlearn: 1.0886601\ttotal: 1m 46s\tremaining: 25.8s\n",
            "161:\tlearn: 1.0885228\ttotal: 1m 47s\tremaining: 25.1s\n",
            "162:\tlearn: 1.0878446\ttotal: 1m 47s\tremaining: 24.4s\n",
            "163:\tlearn: 1.0874882\ttotal: 1m 48s\tremaining: 23.8s\n",
            "164:\tlearn: 1.0871177\ttotal: 1m 49s\tremaining: 23.3s\n",
            "165:\tlearn: 1.0867760\ttotal: 1m 50s\tremaining: 22.7s\n",
            "166:\tlearn: 1.0863881\ttotal: 1m 51s\tremaining: 22.1s\n",
            "167:\tlearn: 1.0858412\ttotal: 1m 52s\tremaining: 21.4s\n",
            "168:\tlearn: 1.0853439\ttotal: 1m 53s\tremaining: 20.8s\n",
            "169:\tlearn: 1.0850974\ttotal: 1m 53s\tremaining: 20.1s\n",
            "170:\tlearn: 1.0849481\ttotal: 1m 54s\tremaining: 19.4s\n",
            "171:\tlearn: 1.0848016\ttotal: 1m 54s\tremaining: 18.7s\n",
            "172:\tlearn: 1.0843751\ttotal: 1m 55s\tremaining: 18s\n",
            "173:\tlearn: 1.0840707\ttotal: 1m 56s\tremaining: 17.3s\n",
            "174:\tlearn: 1.0836065\ttotal: 1m 56s\tremaining: 16.7s\n",
            "175:\tlearn: 1.0834268\ttotal: 1m 57s\tremaining: 16s\n",
            "176:\tlearn: 1.0830779\ttotal: 1m 57s\tremaining: 15.3s\n",
            "177:\tlearn: 1.0826529\ttotal: 1m 58s\tremaining: 14.6s\n",
            "178:\tlearn: 1.0824194\ttotal: 1m 58s\tremaining: 14s\n",
            "179:\tlearn: 1.0819936\ttotal: 1m 59s\tremaining: 13.3s\n",
            "180:\tlearn: 1.0817972\ttotal: 2m\tremaining: 12.6s\n",
            "181:\tlearn: 1.0812982\ttotal: 2m\tremaining: 11.9s\n",
            "182:\tlearn: 1.0810170\ttotal: 2m 1s\tremaining: 11.3s\n",
            "183:\tlearn: 1.0804816\ttotal: 2m 1s\tremaining: 10.6s\n",
            "184:\tlearn: 1.0803029\ttotal: 2m 2s\tremaining: 9.94s\n",
            "185:\tlearn: 1.0801559\ttotal: 2m 3s\tremaining: 9.3s\n",
            "186:\tlearn: 1.0799187\ttotal: 2m 4s\tremaining: 8.66s\n",
            "187:\tlearn: 1.0795658\ttotal: 2m 5s\tremaining: 8.02s\n",
            "188:\tlearn: 1.0791683\ttotal: 2m 6s\tremaining: 7.37s\n",
            "189:\tlearn: 1.0787379\ttotal: 2m 7s\tremaining: 6.7s\n",
            "190:\tlearn: 1.0783876\ttotal: 2m 7s\tremaining: 6.03s\n",
            "191:\tlearn: 1.0781039\ttotal: 2m 8s\tremaining: 5.35s\n",
            "192:\tlearn: 1.0778672\ttotal: 2m 9s\tremaining: 4.68s\n",
            "193:\tlearn: 1.0776113\ttotal: 2m 9s\tremaining: 4.01s\n",
            "194:\tlearn: 1.0773872\ttotal: 2m 10s\tremaining: 3.34s\n",
            "195:\tlearn: 1.0772657\ttotal: 2m 10s\tremaining: 2.67s\n",
            "196:\tlearn: 1.0770838\ttotal: 2m 11s\tremaining: 2s\n",
            "197:\tlearn: 1.0766747\ttotal: 2m 11s\tremaining: 1.33s\n",
            "198:\tlearn: 1.0764136\ttotal: 2m 12s\tremaining: 666ms\n",
            "199:\tlearn: 1.0760652\ttotal: 2m 13s\tremaining: 0us\n"
          ]
        },
        {
          "output_type": "execute_result",
          "data": {
            "text/plain": [
              "<catboost.core.CatBoostRegressor at 0x7f84f5b215a0>"
            ]
          },
          "metadata": {},
          "execution_count": 26
        }
      ]
    },
    {
      "cell_type": "code",
      "source": [
        "prediction = model.predict(testX)"
      ],
      "metadata": {
        "id": "VpbbttFa3dFt"
      },
      "execution_count": 27,
      "outputs": []
    },
    {
      "cell_type": "code",
      "source": [
        "prediction"
      ],
      "metadata": {
        "colab": {
          "base_uri": "https://localhost:8080/"
        },
        "id": "lvsToHR434BA",
        "outputId": "7c6a646e-5a24-4e50-cc21-2d86f190f212"
      },
      "execution_count": 28,
      "outputs": [
        {
          "output_type": "execute_result",
          "data": {
            "text/plain": [
              "array([7.34366479, 7.69458015, 7.75328089, ..., 8.7623654 , 9.42898875,\n",
              "       9.37390279])"
            ]
          },
          "metadata": {},
          "execution_count": 28
        }
      ]
    },
    {
      "cell_type": "code",
      "execution_count": 29,
      "metadata": {
        "id": "k7kSTkZHBJbT",
        "colab": {
          "base_uri": "https://localhost:8080/"
        },
        "outputId": "29a119ad-c876-43af-d8ef-4c2bb01783c1"
      },
      "outputs": [
        {
          "output_type": "execute_result",
          "data": {
            "text/plain": [
              "(244386,)"
            ]
          },
          "metadata": {},
          "execution_count": 29
        }
      ],
      "source": [
        "prediction.shape"
      ]
    },
    {
      "cell_type": "code",
      "execution_count": 30,
      "metadata": {
        "id": "iT3i0q7qBJbT"
      },
      "outputs": [],
      "source": [
        "assert prediction.shape == (244386,)"
      ]
    },
    {
      "cell_type": "markdown",
      "metadata": {
        "id": "snRgXfcLBJbT"
      },
      "source": [
        "# submit"
      ]
    },
    {
      "cell_type": "code",
      "execution_count": 31,
      "metadata": {
        "id": "JnR6Jc75BJbT",
        "colab": {
          "base_uri": "https://localhost:8080/"
        },
        "outputId": "bba89812-88c8-4b8b-f96e-2477759c58ab"
      },
      "outputs": [
        {
          "output_type": "stream",
          "name": "stdout",
          "text": [
            "  % Total    % Received % Xferd  Average Speed   Time    Time     Time  Current\n",
            "                                 Dload  Upload   Total   Spent    Left  Speed\n",
            "100  1907  100  1907    0     0   5253      0 --:--:-- --:--:-- --:--:--  5253\n"
          ]
        }
      ],
      "source": [
        "! curl -H 'Cache-Control: no-cache' https://raw.githubusercontent.com/mike0sv/lsml_submit_server/2023/src/client.py -o client.py"
      ]
    },
    {
      "cell_type": "code",
      "execution_count": 32,
      "metadata": {
        "id": "f5GAixoUBJbT"
      },
      "outputs": [],
      "source": [
        "import client"
      ]
    },
    {
      "cell_type": "code",
      "execution_count": 35,
      "metadata": {
        "id": "qCkxpWDgBJbT",
        "colab": {
          "base_uri": "https://localhost:8080/"
        },
        "outputId": "e8fc3fdb-dc47-4f32-a562-cce84063b5d0"
      },
      "outputs": [
        {
          "name": "stdout",
          "output_type": "stream",
          "text": [
            "Enter username:\n",
            "user12\n",
            "Enter password:\n",
            "··········\n"
          ]
        },
        {
          "output_type": "execute_result",
          "data": {
            "text/plain": [
              "{'data': {'mape': 11.004088394069493,\n",
              "  'mean_absolute_error': 0.8332399555539057,\n",
              "  'mean_squared_error': 1.6428055673416508,\n",
              "  'rmse': 1.2817197694276432,\n",
              "  'rmspe': 21.011626084464258},\n",
              " 'ok': True}"
            ]
          },
          "metadata": {},
          "execution_count": 35
        }
      ],
      "source": [
        "client.make_eval(pd.DataFrame({'views': prediction}, index=testX.index), final=True)"
      ]
    },
    {
      "cell_type": "code",
      "execution_count": 36,
      "metadata": {
        "id": "FqJrd7wlBJbT",
        "colab": {
          "base_uri": "https://localhost:8080/"
        },
        "outputId": "98cfa150-97f4-4a1a-b49d-32e5be6eddea"
      },
      "outputs": [
        {
          "output_type": "execute_result",
          "data": {
            "text/plain": [
              "{'2022-06-22': [{'baseline_beaten': True,\n",
              "   'is_final': False,\n",
              "   'metrics': {'mape': 12.341396873546397,\n",
              "    'mean_absolute_error': 0.9609591200240208,\n",
              "    'mean_squared_error': 1.7034760140196612,\n",
              "    'rmse': 1.3051727908670412,\n",
              "    'rmspe': 18.607012460419195}},\n",
              "  {'baseline_beaten': True,\n",
              "   'is_final': True,\n",
              "   'metrics': {'mape': 12.341396873546397,\n",
              "    'mean_absolute_error': 0.9609591200240208,\n",
              "    'mean_squared_error': 1.7034760140196612,\n",
              "    'rmse': 1.3051727908670412,\n",
              "    'rmspe': 18.607012460419195}},\n",
              "  {'baseline_beaten': True,\n",
              "   'is_final': False,\n",
              "   'metrics': {'mape': 11.108795658652609,\n",
              "    'mean_absolute_error': 0.8803678193558462,\n",
              "    'mean_squared_error': 1.4708072986136502,\n",
              "    'rmse': 1.2127684439387636,\n",
              "    'rmspe': 16.84264300082646}},\n",
              "  {'baseline_beaten': True,\n",
              "   'is_final': True,\n",
              "   'metrics': {'mape': 11.108795658652609,\n",
              "    'mean_absolute_error': 0.8803678193558462,\n",
              "    'mean_squared_error': 1.4708072986136502,\n",
              "    'rmse': 1.2127684439387636,\n",
              "    'rmspe': 16.84264300082646}}],\n",
              " '2023-06-12': [{'baseline_beaten': True,\n",
              "   'is_final': False,\n",
              "   'metrics': {'mape': 10.514981439889045,\n",
              "    'mean_absolute_error': 0.8109329613846357,\n",
              "    'mean_squared_error': 1.4356236751771687,\n",
              "    'rmse': 1.1981751437820636,\n",
              "    'rmspe': 18.63764681280147}},\n",
              "  {'baseline_beaten': True,\n",
              "   'is_final': True,\n",
              "   'metrics': {'mape': 11.004088394069493,\n",
              "    'mean_absolute_error': 0.8332399555539057,\n",
              "    'mean_squared_error': 1.6428055673416508,\n",
              "    'rmse': 1.2817197694276432,\n",
              "    'rmspe': 21.011626084464258}}]}"
            ]
          },
          "metadata": {},
          "execution_count": 36
        }
      ],
      "source": [
        "client.check_results()"
      ]
    },
    {
      "cell_type": "code",
      "source": [],
      "metadata": {
        "id": "tz2lWBY14gSw"
      },
      "execution_count": 36,
      "outputs": []
    }
  ],
  "metadata": {
    "kernelspec": {
      "display_name": "Python 3",
      "name": "python3"
    },
    "language_info": {
      "codemirror_mode": {
        "name": "ipython",
        "version": 3
      },
      "file_extension": ".py",
      "mimetype": "text/x-python",
      "name": "python",
      "nbconvert_exporter": "python",
      "pygments_lexer": "ipython3",
      "version": "3.11.3"
    },
    "colab": {
      "provenance": [],
      "gpuType": "T4",
      "include_colab_link": true
    },
    "accelerator": "GPU"
  },
  "nbformat": 4,
  "nbformat_minor": 0
}